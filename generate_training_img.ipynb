{
 "cells": [
  {
   "cell_type": "code",
   "execution_count": null,
   "metadata": {},
   "outputs": [],
   "source": [
    "import pickle\n",
    "import matplotlib.pyplot as plt\n",
    "import numpy as np\n",
    "import random\n",
    "import math\n",
    "\n",
    "\n",
    "def ellipse(x, y, a, b):\n",
    "    return (x/a)**2 + (y/b)**2\n",
    "\n",
    "def rotated_ellipse(x, y, a, b, sin, cos):\n",
    "    return ((x * cos + y * sin) / a) ** 2 + ((x * sin - y * cos) / b) ** 2\n",
    "\n",
    "\n",
    "train_data = [[], [], []]\n",
    "counter = 0\n",
    "while len(train_data[0]) < 1000:\n",
    "    a = random.uniform(9, 49)\n",
    "    ecc = random.random()\n",
    "    theta = math.radians(random.uniform(-90, 90))\n",
    "    sin, cos = math.sin(theta), math.cos(theta)\n",
    "    # print(len(train_data[0]))\n",
    "    b = (a ** 2 * (1 - ecc ** 2)) ** 0.5\n",
    "    matrix = [[0 for i in range(100)] for j in range(100)]\n",
    "    for i in range(len(matrix)):\n",
    "        for j in range(len(matrix[0])):\n",
    "            if rotated_ellipse(i - 49.5, j - 49.5, a, b, sin, cos) <= 1:\n",
    "                matrix[i][j] = 1\n",
    "    matrix = np.array(matrix)\n",
    "    # rotated = rotate(matrix, angle=theta, reshape=False)\n",
    "    train_data[0].append(matrix)\n",
    "    train_data[1].append(ecc)\n",
    "    train_data[2].append(theta)\n",
    "\n",
    "with open(\"test_data1.pkl\", 'wb') as f:\n",
    "    pickle.dump(train_data, f)"
   ]
  }
 ],
 "metadata": {
  "language_info": {
   "name": "python"
  }
 },
 "nbformat": 4,
 "nbformat_minor": 2
}
