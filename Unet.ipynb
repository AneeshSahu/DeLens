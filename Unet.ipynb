{
 "cells": [
  {
   "cell_type": "markdown",
   "metadata": {},
   "source": [
    "## Forward Propagation"
   ]
  },
  {
   "cell_type": "code",
   "execution_count": 88,
   "metadata": {},
   "outputs": [],
   "source": [
    "from Concat import Concat\n",
    "from ConvolutionalLayer import ConvolutionalLayer\n",
    "from MaxPoolLayer import MaxPoolLayer\n",
    "from UpconvolutionLayer import UpconvolutionalLayer\n",
    "from UpsamplingLayer import UpsamplingLayer\n",
    "import numpy as np\n",
    "import os"
   ]
  },
  {
   "cell_type": "code",
   "execution_count": 89,
   "metadata": {},
   "outputs": [],
   "source": [
    "input = []\n",
    "# Directory containing the .npy files\n",
    "directory = r\"lensingData/Data/train/Lensed\"\n",
    "\n",
    "# Get a list of .npy files in the directory\n",
    "npy_files = [f for f in os.listdir(directory) if f.endswith('.npy')][:20]\n",
    "\n",
    "# Sort the files to maintain order\n",
    "npy_files.sort()\n",
    "\n",
    "# Iterate through the list and plot each file\n",
    "for idx, npy_file in enumerate(npy_files):\n",
    "    # Load the .npy file\n",
    "    data = np.load(os.path.join(directory, npy_file))\n",
    "    input.append(data)\n",
    "\n",
    "input = np.array(input)\n"
   ]
  },
  {
   "cell_type": "code",
   "execution_count": 90,
   "metadata": {},
   "outputs": [],
   "source": [
    "Down_conv_1 = ConvolutionalLayer(kwidth=2, kcount=2)\n",
    "Max_pool_1 = MaxPoolLayer(2, 2)\n",
    "Down_conv_2 = ConvolutionalLayer(kwidth=2, kcount=2)\n",
    "Max_pool_2 = MaxPoolLayer(2, 2)\n",
    "Down_conv_3 = ConvolutionalLayer(kwidth=2, kcount=2)\n",
    "Max_pool_3 = MaxPoolLayer(2, 2)\n",
    "Down_conv_4 = ConvolutionalLayer(kwidth=2, kcount=2)\n",
    "Up_sample_1 = UpsamplingLayer(2)\n",
    "Concat_1 = Concat(Down_conv_3)\n",
    "Up_conv_1 = UpconvolutionalLayer(3, 1)\n",
    "Up_sample_2 = UpsamplingLayer(2)\n",
    "Concat_2 = Concat(Down_conv_2)\n",
    "Up_conv_2 = UpconvolutionalLayer(3, 1)\n",
    "Up_sample_3 = UpsamplingLayer(2)\n",
    "Concat_3 = Concat(Down_conv_1)\n",
    "Up_conv_3 = UpconvolutionalLayer(3, 1)\n",
    "Up_conv_4 = UpconvolutionalLayer(3, 1)"
   ]
  },
  {
   "cell_type": "code",
   "execution_count": 91,
   "metadata": {},
   "outputs": [
    {
     "data": {
      "text/plain": [
       "((20, 64, 64), (40, 63, 63))"
      ]
     },
     "execution_count": 91,
     "metadata": {},
     "output_type": "execute_result"
    }
   ],
   "source": [
    "forward_down_conv_1 = Down_conv_1.forward(input)\n",
    "input.shape, forward_down_conv_1.shape"
   ]
  },
  {
   "cell_type": "code",
   "execution_count": 92,
   "metadata": {},
   "outputs": [
    {
     "data": {
      "text/plain": [
       "((40, 31, 31), (80, 30, 30))"
      ]
     },
     "execution_count": 92,
     "metadata": {},
     "output_type": "execute_result"
    }
   ],
   "source": [
    "forward_max_pool_1 = Max_pool_1.forward(forward_down_conv_1)\n",
    "forward_down_conv_2 = Down_conv_2.forward(forward_max_pool_1)\n",
    "forward_max_pool_1.shape, forward_down_conv_2.shape"
   ]
  },
  {
   "cell_type": "code",
   "execution_count": 93,
   "metadata": {},
   "outputs": [
    {
     "data": {
      "text/plain": [
       "((80, 15, 15), (160, 14, 14))"
      ]
     },
     "execution_count": 93,
     "metadata": {},
     "output_type": "execute_result"
    }
   ],
   "source": [
    "forward_max_pool_2 = Max_pool_2.forward(forward_down_conv_2)\n",
    "forward_down_conv_3 = Down_conv_3.forward(forward_max_pool_2)\n",
    "forward_max_pool_2.shape, forward_down_conv_3.shape"
   ]
  },
  {
   "cell_type": "code",
   "execution_count": 94,
   "metadata": {},
   "outputs": [
    {
     "data": {
      "text/plain": [
       "(160, 7, 7)"
      ]
     },
     "execution_count": 94,
     "metadata": {},
     "output_type": "execute_result"
    }
   ],
   "source": [
    "forward_max_pool_3 = Max_pool_3.forward(forward_down_conv_3)\n",
    "forward_max_pool_3.shape"
   ]
  },
  {
   "cell_type": "code",
   "execution_count": 95,
   "metadata": {},
   "outputs": [],
   "source": [
    "forward_down_conv_4 = Down_conv_4.forward(forward_max_pool_3)\n",
    "forward_down_conv_4.shape"
   ]
  },
  {
   "cell_type": "code",
   "execution_count": null,
   "metadata": {},
   "outputs": [
    {
     "data": {
      "text/plain": [
       "(320, 12, 12)"
      ]
     },
     "execution_count": 77,
     "metadata": {},
     "output_type": "execute_result"
    }
   ],
   "source": [
    "forward_up_sample_1 = Up_sample_1.forward(forward_down_conv_4)\n",
    "forward_up_sample_1.shape"
   ]
  },
  {
   "cell_type": "code",
   "execution_count": null,
   "metadata": {},
   "outputs": [
    {
     "data": {
      "text/plain": [
       "(480, 12, 12)"
      ]
     },
     "execution_count": 78,
     "metadata": {},
     "output_type": "execute_result"
    }
   ],
   "source": [
    "forward_concat_1 = Concat_1.forward(forward_up_sample_1)\n",
    "forward_concat_1.shape"
   ]
  },
  {
   "cell_type": "code",
   "execution_count": null,
   "metadata": {},
   "outputs": [
    {
     "data": {
      "text/plain": [
       "(480, 14, 14)"
      ]
     },
     "execution_count": 79,
     "metadata": {},
     "output_type": "execute_result"
    }
   ],
   "source": [
    "forward_up_conv_1 = Up_conv_1.forward(forward_concat_1)\n",
    "forward_up_conv_1.shape"
   ]
  },
  {
   "cell_type": "code",
   "execution_count": null,
   "metadata": {},
   "outputs": [
    {
     "data": {
      "text/plain": [
       "(480, 28, 28)"
      ]
     },
     "execution_count": 80,
     "metadata": {},
     "output_type": "execute_result"
    }
   ],
   "source": [
    "forward_up_sample_2 = Up_sample_2.forward(forward_up_conv_1)\n",
    "forward_up_sample_2.shape"
   ]
  },
  {
   "cell_type": "code",
   "execution_count": null,
   "metadata": {},
   "outputs": [
    {
     "data": {
      "text/plain": [
       "(560, 28, 28)"
      ]
     },
     "execution_count": 81,
     "metadata": {},
     "output_type": "execute_result"
    }
   ],
   "source": [
    "forward_concat_2 = Concat_2.forward(forward_up_sample_2)\n",
    "forward_concat_2.shape"
   ]
  },
  {
   "cell_type": "code",
   "execution_count": null,
   "metadata": {},
   "outputs": [
    {
     "data": {
      "text/plain": [
       "(560, 30, 30)"
      ]
     },
     "execution_count": 82,
     "metadata": {},
     "output_type": "execute_result"
    }
   ],
   "source": [
    "forward_up_conv_2 = Up_conv_2.forward(forward_concat_2)\n",
    "forward_up_conv_2.shape"
   ]
  },
  {
   "cell_type": "code",
   "execution_count": null,
   "metadata": {},
   "outputs": [
    {
     "data": {
      "text/plain": [
       "(560, 60, 60)"
      ]
     },
     "execution_count": 83,
     "metadata": {},
     "output_type": "execute_result"
    }
   ],
   "source": [
    "forward_up_sample_3 = Up_sample_3.forward(forward_up_conv_2)\n",
    "forward_up_sample_3.shape"
   ]
  },
  {
   "cell_type": "code",
   "execution_count": null,
   "metadata": {},
   "outputs": [
    {
     "data": {
      "text/plain": [
       "(600, 60, 60)"
      ]
     },
     "execution_count": 84,
     "metadata": {},
     "output_type": "execute_result"
    }
   ],
   "source": [
    "forward_concat_3 = Concat_3.forward(forward_up_sample_3)\n",
    "forward_concat_3.shape"
   ]
  },
  {
   "cell_type": "code",
   "execution_count": null,
   "metadata": {},
   "outputs": [
    {
     "data": {
      "text/plain": [
       "(600, 62, 62)"
      ]
     },
     "execution_count": 85,
     "metadata": {},
     "output_type": "execute_result"
    }
   ],
   "source": [
    "forward_up_conv_3 = Up_conv_3.forward(forward_concat_3)\n",
    "forward_up_conv_3.shape"
   ]
  },
  {
   "cell_type": "code",
   "execution_count": null,
   "metadata": {},
   "outputs": [
    {
     "data": {
      "text/plain": [
       "(600, 64, 64)"
      ]
     },
     "execution_count": 86,
     "metadata": {},
     "output_type": "execute_result"
    }
   ],
   "source": [
    "forward_up_conv_4 = Up_conv_4.forward(forward_up_conv_3)\n",
    "forward_up_conv_4.shape"
   ]
  },
  {
   "cell_type": "markdown",
   "metadata": {},
   "source": [
    "## Backward propagation"
   ]
  },
  {
   "cell_type": "code",
   "execution_count": null,
   "metadata": {},
   "outputs": [
    {
     "ename": "TypeError",
     "evalue": "UpconvolutionalLayer.backward() missing 1 required positional argument: 'gradIn'",
     "output_type": "error",
     "traceback": [
      "\u001b[1;31m---------------------------------------------------------------------------\u001b[0m",
      "\u001b[1;31mTypeError\u001b[0m                                 Traceback (most recent call last)",
      "Cell \u001b[1;32mIn[87], line 1\u001b[0m\n\u001b[1;32m----> 1\u001b[0m backward_up_conv_3 \u001b[38;5;241m=\u001b[39m \u001b[43mUp_conv_3\u001b[49m\u001b[38;5;241;43m.\u001b[39;49m\u001b[43mbackward\u001b[49m\u001b[43m(\u001b[49m\u001b[43m)\u001b[49m\n",
      "\u001b[1;31mTypeError\u001b[0m: UpconvolutionalLayer.backward() missing 1 required positional argument: 'gradIn'"
     ]
    }
   ],
   "source": [
    "backward_up_conv_3 = Up_conv_3.backward()"
   ]
  }
 ],
 "metadata": {
  "kernelspec": {
   "display_name": "Python 3",
   "language": "python",
   "name": "python3"
  },
  "language_info": {
   "codemirror_mode": {
    "name": "ipython",
    "version": 3
   },
   "file_extension": ".py",
   "mimetype": "text/x-python",
   "name": "python",
   "nbconvert_exporter": "python",
   "pygments_lexer": "ipython3",
   "version": "3.10.7"
  }
 },
 "nbformat": 4,
 "nbformat_minor": 2
}
