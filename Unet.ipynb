{
 "cells": [
  {
   "cell_type": "markdown",
   "metadata": {},
   "source": [
    "## Forward Propagation"
   ]
  },
  {
   "cell_type": "code",
   "execution_count": 1,
   "metadata": {},
   "outputs": [],
   "source": [
    "from Concat import Concat\n",
    "from ConvolutionalLayer import ConvolutionalLayer\n",
    "from MaxPoolLayer import MaxPoolLayer\n",
    "from UpconvolutionLayer import UpconvolutionalLayer\n",
    "from UpsamplingLayer import UpsamplingLayer\n",
    "from SquaredError import SquaredError\n",
    "from halfLayers import halfLayers\n",
    "import numpy as np\n",
    "import os"
   ]
  },
  {
   "cell_type": "markdown",
   "metadata": {},
   "source": [
    "### Get training data"
   ]
  },
  {
   "cell_type": "code",
   "execution_count": 2,
   "metadata": {},
   "outputs": [
    {
     "name": "stdout",
     "output_type": "stream",
     "text": [
      "['10019_1.1988096538977375.npy', '10019_1.274228701026851.npy', '10019_1.8988371845614558.npy', '10019_2.1590693782000945.npy', '10019_2.223947000861411.npy']\n"
     ]
    }
   ],
   "source": [
    "unlensed = []\n",
    "# Directory containing the .npy files\n",
    "directory = r\"lensingData/Data/train/Lensed\"\n",
    "\n",
    "# Get a list of .npy files in the directory\n",
    "npy_files = [f for f in os.listdir(directory) if f.endswith('.npy')][:20]\n",
    "\n",
    "# Sort the files to maintain order\n",
    "npy_files.sort()\n",
    "\n",
    "print(npy_files[:5])\n",
    "# Iterate through the list and plot each file\n",
    "for idx, npy_file in enumerate(npy_files):\n",
    "    # Load the .npy file\n",
    "    data = np.load(os.path.join(directory, npy_file))\n",
    "    unlensed.append(data)\n",
    "\n",
    "unlensed = np.array(unlensed)\n"
   ]
  },
  {
   "cell_type": "markdown",
   "metadata": {},
   "source": [
    "### Get testing data"
   ]
  },
  {
   "cell_type": "code",
   "execution_count": 3,
   "metadata": {},
   "outputs": [
    {
     "name": "stdout",
     "output_type": "stream",
     "text": [
      "['10019_1.1988096538977375.npy', '10019_1.274228701026851.npy', '10019_1.8988371845614558.npy', '10019_2.1590693782000945.npy', '10019_2.223947000861411.npy']\n"
     ]
    }
   ],
   "source": [
    "lensed = []\n",
    "# Directory containing the .npy files\n",
    "directory = r\"lensingData/Data/train/Unlensed\"\n",
    "\n",
    "# Get a list of .npy files in the directory\n",
    "npy_files = [f for f in os.listdir(directory) if f.endswith('.npy')][:20]\n",
    "\n",
    "# Sort the files to maintain order\n",
    "npy_files.sort()\n",
    "\n",
    "print(npy_files[:5])\n",
    "# Iterate through the list and plot each file\n",
    "for idx, npy_file in enumerate(npy_files):\n",
    "    # Load the .npy file\n",
    "    data = np.load(os.path.join(directory, npy_file))\n",
    "    lensed.append(data)\n",
    "\n",
    "lensed = np.array(lensed)"
   ]
  },
  {
   "cell_type": "code",
   "execution_count": 4,
   "metadata": {},
   "outputs": [],
   "source": [
    "Down_conv_1 = ConvolutionalLayer(kwidth=2, kcount=2)\n",
    "Max_pool_1 = MaxPoolLayer(2, 2)\n",
    "Down_conv_2 = ConvolutionalLayer(kwidth=2, kcount=2)\n",
    "Max_pool_2 = MaxPoolLayer(2, 2)\n",
    "Down_conv_3 = ConvolutionalLayer(kwidth=2, kcount=2)\n",
    "Max_pool_3 = MaxPoolLayer(2, 2)\n",
    "Down_conv_4 = ConvolutionalLayer(kwidth=2, kcount=2)\n",
    "Up_sample_1 = UpsamplingLayer(2)\n",
    "Half_1 = halfLayers()\n",
    "Concat_1 = Concat(Down_conv_3)\n",
    "Half_2 = halfLayers()\n",
    "Up_conv_1 = UpconvolutionalLayer(3, 1)\n",
    "Up_sample_2 = UpsamplingLayer(2)\n",
    "Half_3 = halfLayers()\n",
    "Concat_2 = Concat(Down_conv_2)\n",
    "Half_4 = halfLayers()\n",
    "Up_conv_2 = UpconvolutionalLayer(3, 1)\n",
    "Up_sample_3 = UpsamplingLayer(2)\n",
    "Half_5 = halfLayers()\n",
    "Concat_3 = Concat(Down_conv_1)\n",
    "Up_conv_3 = UpconvolutionalLayer(3, 1)\n",
    "Half_6 = halfLayers()\n",
    "Half_7 = halfLayers()\n",
    "Up_conv_4 = UpconvolutionalLayer(3, 1)\n",
    "Squared_Error = SquaredError()"
   ]
  },
  {
   "cell_type": "code",
   "execution_count": 5,
   "metadata": {},
   "outputs": [
    {
     "data": {
      "text/plain": [
       "((1, 64, 64), (2, 63, 63))"
      ]
     },
     "execution_count": 5,
     "metadata": {},
     "output_type": "execute_result"
    }
   ],
   "source": [
    "first_image = np.array([unlensed[0]])\n",
    "forward_down_conv_1 = Down_conv_1.forward(first_image)\n",
    "first_image.shape, forward_down_conv_1.shape"
   ]
  },
  {
   "cell_type": "markdown",
   "metadata": {},
   "source": [
    "### Plotting the original image"
   ]
  },
  {
   "cell_type": "code",
   "execution_count": 6,
   "metadata": {},
   "outputs": [
    {
     "data": {
      "text/plain": [
       "<matplotlib.image.AxesImage at 0x25073d464d0>"
      ]
     },
     "execution_count": 6,
     "metadata": {},
     "output_type": "execute_result"
    },
    {
     "data": {
      "image/png": "[encoded data removed]",
      "text/plain": [
       "<Figure size 640x480 with 1 Axes>"
      ]
     },
     "metadata": {},
     "output_type": "display_data"
    }
   ],
   "source": [
    "import matplotlib.pyplot as plt\n",
    "plt.imshow(first_image[0], cmap='viridis')"
   ]
  },
  {
   "cell_type": "code",
   "execution_count": 7,
   "metadata": {},
   "outputs": [
    {
     "data": {
      "text/plain": [
       "((2, 31, 31), (4, 30, 30))"
      ]
     },
     "execution_count": 7,
     "metadata": {},
     "output_type": "execute_result"
    }
   ],
   "source": [
    "forward_max_pool_1 = Max_pool_1.forward(forward_down_conv_1)\n",
    "forward_down_conv_2 = Down_conv_2.forward(forward_max_pool_1)\n",
    "forward_max_pool_1.shape, forward_down_conv_2.shape"
   ]
  },
  {
   "cell_type": "code",
   "execution_count": 8,
   "metadata": {},
   "outputs": [
    {
     "data": {
      "text/plain": [
       "((4, 15, 15), (8, 14, 14))"
      ]
     },
     "execution_count": 8,
     "metadata": {},
     "output_type": "execute_result"
    }
   ],
   "source": [
    "forward_max_pool_2 = Max_pool_2.forward(forward_down_conv_2)\n",
    "forward_down_conv_3 = Down_conv_3.forward(forward_max_pool_2)\n",
    "forward_max_pool_2.shape, forward_down_conv_3.shape"
   ]
  },
  {
   "cell_type": "code",
   "execution_count": 9,
   "metadata": {},
   "outputs": [
    {
     "data": {
      "text/plain": [
       "(8, 7, 7)"
      ]
     },
     "execution_count": 9,
     "metadata": {},
     "output_type": "execute_result"
    }
   ],
   "source": [
    "forward_max_pool_3 = Max_pool_3.forward(forward_down_conv_3)\n",
    "forward_max_pool_3.shape"
   ]
  },
  {
   "cell_type": "code",
   "execution_count": 10,
   "metadata": {},
   "outputs": [
    {
     "data": {
      "text/plain": [
       "(16, 6, 6)"
      ]
     },
     "execution_count": 10,
     "metadata": {},
     "output_type": "execute_result"
    }
   ],
   "source": [
    "forward_down_conv_4 = Down_conv_4.forward(forward_max_pool_3)\n",
    "forward_down_conv_4.shape"
   ]
  },
  {
   "cell_type": "code",
   "execution_count": 11,
   "metadata": {},
   "outputs": [
    {
     "data": {
      "text/plain": [
       "(8, 12, 12)"
      ]
     },
     "execution_count": 11,
     "metadata": {},
     "output_type": "execute_result"
    }
   ],
   "source": [
    "forward_up_sample_1 = Up_sample_1.forward(forward_down_conv_4)\n",
    "forward_half_layer_1 = Half_1.forward(forward_up_sample_1)\n",
    "forward_half_layer_1.shape"
   ]
  },
  {
   "cell_type": "code",
   "execution_count": 12,
   "metadata": {},
   "outputs": [
    {
     "data": {
      "text/plain": [
       "((8, 12, 12), (16, 12, 12))"
      ]
     },
     "execution_count": 12,
     "metadata": {},
     "output_type": "execute_result"
    }
   ],
   "source": [
    "forward_concat_1 = Concat_1.forward(forward_half_layer_1)\n",
    "forward_half_layer_2 = Half_2.forward(forward_concat_1)\n",
    "forward_half_layer_2.shape, forward_concat_1.shape"
   ]
  },
  {
   "cell_type": "code",
   "execution_count": 13,
   "metadata": {},
   "outputs": [
    {
     "data": {
      "text/plain": [
       "(8, 14, 14)"
      ]
     },
     "execution_count": 13,
     "metadata": {},
     "output_type": "execute_result"
    }
   ],
   "source": [
    "forward_up_conv_1 = Up_conv_1.forward(forward_half_layer_2)\n",
    "forward_up_conv_1.shape"
   ]
  },
  {
   "cell_type": "code",
   "execution_count": 14,
   "metadata": {},
   "outputs": [
    {
     "data": {
      "text/plain": [
       "(4, 28, 28)"
      ]
     },
     "execution_count": 14,
     "metadata": {},
     "output_type": "execute_result"
    }
   ],
   "source": [
    "forward_up_sample_2 = Up_sample_2.forward(forward_up_conv_1)\n",
    "forward_half_layer_3 = Half_3.forward(forward_up_sample_2)\n",
    "forward_half_layer_3.shape"
   ]
  },
  {
   "cell_type": "code",
   "execution_count": 15,
   "metadata": {},
   "outputs": [
    {
     "data": {
      "text/plain": [
       "(4, 28, 28)"
      ]
     },
     "execution_count": 15,
     "metadata": {},
     "output_type": "execute_result"
    }
   ],
   "source": [
    "forward_concat_2 = Concat_2.forward(forward_half_layer_3)\n",
    "forward_half_layer_4 = Half_4.forward(forward_concat_2)\n",
    "forward_half_layer_4.shape"
   ]
  },
  {
   "cell_type": "code",
   "execution_count": 16,
   "metadata": {},
   "outputs": [
    {
     "data": {
      "text/plain": [
       "(4, 30, 30)"
      ]
     },
     "execution_count": 16,
     "metadata": {},
     "output_type": "execute_result"
    }
   ],
   "source": [
    "forward_up_conv_2 = Up_conv_2.forward(forward_half_layer_4)\n",
    "forward_up_conv_2.shape"
   ]
  },
  {
   "cell_type": "code",
   "execution_count": 17,
   "metadata": {},
   "outputs": [
    {
     "data": {
      "text/plain": [
       "(2, 60, 60)"
      ]
     },
     "execution_count": 17,
     "metadata": {},
     "output_type": "execute_result"
    }
   ],
   "source": [
    "forward_up_sample_3 = Up_sample_3.forward(forward_up_conv_2)\n",
    "forward_half_layer_5 = Half_5.forward(forward_up_sample_3)\n",
    "forward_half_layer_5.shape"
   ]
  },
  {
   "cell_type": "code",
   "execution_count": 18,
   "metadata": {},
   "outputs": [
    {
     "data": {
      "text/plain": [
       "(2, 60, 60)"
      ]
     },
     "execution_count": 18,
     "metadata": {},
     "output_type": "execute_result"
    }
   ],
   "source": [
    "forward_concat_3 = Concat_3.forward(forward_half_layer_5)\n",
    "forward_half_layer_6 = Half_6.forward(forward_concat_3)\n",
    "forward_half_layer_6.shape"
   ]
  },
  {
   "cell_type": "code",
   "execution_count": 19,
   "metadata": {},
   "outputs": [
    {
     "data": {
      "text/plain": [
       "(1, 62, 62)"
      ]
     },
     "execution_count": 19,
     "metadata": {},
     "output_type": "execute_result"
    }
   ],
   "source": [
    "forward_up_conv_3 = Up_conv_3.forward(forward_half_layer_6)\n",
    "forward_half_layer_7 = Half_7.forward(forward_up_conv_3)\n",
    "forward_half_layer_7.shape"
   ]
  },
  {
   "cell_type": "code",
   "execution_count": 20,
   "metadata": {},
   "outputs": [
    {
     "data": {
      "text/plain": [
       "(1, 64, 64)"
      ]
     },
     "execution_count": 20,
     "metadata": {},
     "output_type": "execute_result"
    }
   ],
   "source": [
    "forward_up_conv_4 = Up_conv_4.forward(forward_half_layer_7)\n",
    "forward_up_conv_4.shape"
   ]
  },
  {
   "cell_type": "markdown",
   "metadata": {},
   "source": [
    "### Plotting predicted image"
   ]
  },
  {
   "cell_type": "code",
   "execution_count": 21,
   "metadata": {},
   "outputs": [
    {
     "data": {
      "text/plain": [
       "<matplotlib.image.AxesImage at 0x25073f9f9a0>"
      ]
     },
     "execution_count": 21,
     "metadata": {},
     "output_type": "execute_result"
    },
    {
     "data": {
      "image/png": "[encoded data removed]",
      "text/plain": [
       "<Figure size 640x480 with 1 Axes>"
      ]
     },
     "metadata": {},
     "output_type": "display_data"
    }
   ],
   "source": [
    "plt.imshow(forward_up_conv_4[0], cmap='viridis')"
   ]
  },
  {
   "cell_type": "code",
   "execution_count": 22,
   "metadata": {},
   "outputs": [
    {
     "data": {
      "text/plain": [
       "(4096,)"
      ]
     },
     "execution_count": 22,
     "metadata": {},
     "output_type": "execute_result"
    }
   ],
   "source": [
    "flattened_data = forward_up_conv_4.flatten()\n",
    "flattened_data.shape"
   ]
  },
  {
   "cell_type": "code",
   "execution_count": 23,
   "metadata": {},
   "outputs": [],
   "source": [
    "Y = lensed[0].flatten()"
   ]
  },
  {
   "cell_type": "code",
   "execution_count": 24,
   "metadata": {},
   "outputs": [
    {
     "data": {
      "text/plain": [
       "(1, 64, 64)"
      ]
     },
     "execution_count": 24,
     "metadata": {},
     "output_type": "execute_result"
    }
   ],
   "source": [
    "gradient = Squared_Error.gradient(Y, flattened_data)\n",
    "gradient = gradient.reshape((1, 64, 64))\n",
    "gradient.shape"
   ]
  },
  {
   "cell_type": "markdown",
   "metadata": {},
   "source": [
    "## Backward propagation"
   ]
  },
  {
   "cell_type": "code",
   "execution_count": 25,
   "metadata": {},
   "outputs": [
    {
     "name": "stdout",
     "output_type": "stream",
     "text": [
      "64 62\n"
     ]
    },
    {
     "data": {
      "text/plain": [
       "(1, 62, 62)"
      ]
     },
     "execution_count": 25,
     "metadata": {},
     "output_type": "execute_result"
    }
   ],
   "source": [
    "backward_up_conv_4 = Up_conv_4.backward(gradient)\n",
    "Up_conv_4.updateWeights(gradient, 0.01)\n",
    "backward_up_conv_4.shape"
   ]
  },
  {
   "cell_type": "code",
   "execution_count": 26,
   "metadata": {},
   "outputs": [
    {
     "data": {
      "text/plain": [
       "(2, 62, 62)"
      ]
     },
     "execution_count": 26,
     "metadata": {},
     "output_type": "execute_result"
    }
   ],
   "source": [
    "backward_half_layer_7 = Half_7.backward(backward_up_conv_4)\n",
    "backward_half_layer_7.shape"
   ]
  },
  {
   "cell_type": "code",
   "execution_count": 27,
   "metadata": {},
   "outputs": [
    {
     "name": "stdout",
     "output_type": "stream",
     "text": [
      "62 60\n",
      "62 60\n"
     ]
    },
    {
     "data": {
      "text/plain": [
       "(2, 60, 60)"
      ]
     },
     "execution_count": 27,
     "metadata": {},
     "output_type": "execute_result"
    }
   ],
   "source": [
    "backward_up_conv_3 = Up_conv_3.backward(backward_half_layer_7)\n",
    "Up_conv_3.updateWeights(backward_half_layer_7, 0.01)\n",
    "backward_up_conv_3.shape"
   ]
  },
  {
   "cell_type": "code",
   "execution_count": 28,
   "metadata": {},
   "outputs": [
    {
     "data": {
      "text/plain": [
       "((4, 60, 60), (2, 60, 60))"
      ]
     },
     "execution_count": 28,
     "metadata": {},
     "output_type": "execute_result"
    }
   ],
   "source": [
    "backward_half_layer_6 = Half_6.backward(backward_up_conv_3)\n",
    "backward_concat_3 = Concat_3.backward(backward_half_layer_6)\n",
    "backward_half_layer_6.shape, backward_concat_3.shape"
   ]
  },
  {
   "cell_type": "code",
   "execution_count": 29,
   "metadata": {},
   "outputs": [
    {
     "data": {
      "text/plain": [
       "((4, 60, 60), (4, 30, 30))"
      ]
     },
     "execution_count": 29,
     "metadata": {},
     "output_type": "execute_result"
    }
   ],
   "source": [
    "backward_half_layer_5 = Half_5.backward(backward_concat_3)\n",
    "backward_up_sample_3 = Up_sample_3.backward(backward_half_layer_5)\n",
    "\n",
    "backward_half_layer_5.shape, backward_up_sample_3.shape"
   ]
  },
  {
   "cell_type": "code",
   "execution_count": 30,
   "metadata": {},
   "outputs": [
    {
     "name": "stdout",
     "output_type": "stream",
     "text": [
      "30 28\n",
      "30 28\n",
      "30 28\n",
      "30 28\n"
     ]
    },
    {
     "data": {
      "text/plain": [
       "(4, 28, 28)"
      ]
     },
     "execution_count": 30,
     "metadata": {},
     "output_type": "execute_result"
    }
   ],
   "source": [
    "backward_up_conv_2 = Up_conv_2.backward(backward_up_sample_3)\n",
    "Up_conv_2.updateWeights(backward_up_sample_3, 0.01)\n",
    "backward_up_conv_2.shape"
   ]
  },
  {
   "cell_type": "code",
   "execution_count": 31,
   "metadata": {},
   "outputs": [
    {
     "data": {
      "text/plain": [
       "((8, 28, 28), (4, 28, 28))"
      ]
     },
     "execution_count": 31,
     "metadata": {},
     "output_type": "execute_result"
    }
   ],
   "source": [
    "backward_half_layer_4 = Half_4.backward(backward_up_conv_2)\n",
    "backward_concat_2 = Concat_2.backward(backward_half_layer_4)\n",
    "\n",
    "backward_half_layer_4.shape, backward_concat_2.shape"
   ]
  },
  {
   "cell_type": "code",
   "execution_count": 32,
   "metadata": {},
   "outputs": [
    {
     "data": {
      "text/plain": [
       "((8, 14, 14), (8, 28, 28))"
      ]
     },
     "execution_count": 32,
     "metadata": {},
     "output_type": "execute_result"
    }
   ],
   "source": [
    "backward_half_layer_3 = Half_3.backward(backward_concat_2)\n",
    "backward_up_sample_2 = Up_sample_2.backward(backward_half_layer_3)\n",
    "\n",
    "backward_up_sample_2.shape, backward_half_layer_3.shape"
   ]
  },
  {
   "cell_type": "code",
   "execution_count": 33,
   "metadata": {},
   "outputs": [
    {
     "name": "stdout",
     "output_type": "stream",
     "text": [
      "14 12\n",
      "14 12\n",
      "14 12\n",
      "14 12\n",
      "14 12\n",
      "14 12\n",
      "14 12\n",
      "14 12\n"
     ]
    },
    {
     "data": {
      "text/plain": [
       "(8, 12, 12)"
      ]
     },
     "execution_count": 33,
     "metadata": {},
     "output_type": "execute_result"
    }
   ],
   "source": [
    "backward_up_conv_1 = Up_conv_1.backward(backward_up_sample_2)\n",
    "Up_conv_1.updateWeights(backward_up_sample_2, 0.01)\n",
    "backward_up_conv_1.shape"
   ]
  },
  {
   "cell_type": "code",
   "execution_count": 34,
   "metadata": {},
   "outputs": [
    {
     "data": {
      "text/plain": [
       "((16, 12, 12), (8, 12, 12))"
      ]
     },
     "execution_count": 34,
     "metadata": {},
     "output_type": "execute_result"
    }
   ],
   "source": [
    "backward_half_layer_2 = Half_2.backward(backward_up_conv_1)\n",
    "backward_concat_1 = Concat_1.backward(backward_half_layer_2)\n",
    "backward_half_layer_2.shape, backward_concat_1.shape"
   ]
  },
  {
   "cell_type": "code",
   "execution_count": 35,
   "metadata": {},
   "outputs": [
    {
     "data": {
      "text/plain": [
       "((16, 6, 6), (16, 12, 12))"
      ]
     },
     "execution_count": 35,
     "metadata": {},
     "output_type": "execute_result"
    }
   ],
   "source": [
    "backward_half_layer_1 = Half_1.backward(backward_concat_1)\n",
    "backward_up_sample_1 = Up_sample_1.backward(backward_half_layer_1)\n",
    "backward_up_sample_1.shape, backward_half_layer_1.shape"
   ]
  },
  {
   "cell_type": "code",
   "execution_count": 36,
   "metadata": {},
   "outputs": [
    {
     "data": {
      "text/plain": [
       "(8, 7, 7)"
      ]
     },
     "execution_count": 36,
     "metadata": {},
     "output_type": "execute_result"
    }
   ],
   "source": [
    "backward_down_conv_4 = Down_conv_4.backward(backward_up_sample_1)\n",
    "Down_conv_4.updateWeights(backward_up_sample_1, 0.01)\n",
    "backward_down_conv_4.shape"
   ]
  },
  {
   "cell_type": "code",
   "execution_count": 37,
   "metadata": {},
   "outputs": [
    {
     "data": {
      "text/plain": [
       "(8, 14, 14)"
      ]
     },
     "execution_count": 37,
     "metadata": {},
     "output_type": "execute_result"
    }
   ],
   "source": [
    "backward_max_pool_3 = Max_pool_3.backward(backward_down_conv_4)\n",
    "backward_max_pool_3.shape"
   ]
  },
  {
   "cell_type": "code",
   "execution_count": 38,
   "metadata": {},
   "outputs": [
    {
     "data": {
      "text/plain": [
       "(4, 15, 15)"
      ]
     },
     "execution_count": 38,
     "metadata": {},
     "output_type": "execute_result"
    }
   ],
   "source": [
    "backward_down_conv_3 = Down_conv_3.backward(backward_max_pool_3)\n",
    "Down_conv_3.updateWeights(backward_max_pool_3, 0.01)\n",
    "backward_down_conv_3.shape"
   ]
  },
  {
   "cell_type": "code",
   "execution_count": 39,
   "metadata": {},
   "outputs": [
    {
     "data": {
      "text/plain": [
       "(4, 30, 30)"
      ]
     },
     "execution_count": 39,
     "metadata": {},
     "output_type": "execute_result"
    }
   ],
   "source": [
    "backward_max_pool_2 = Max_pool_2.backward(backward_down_conv_3)\n",
    "backward_max_pool_2.shape"
   ]
  },
  {
   "cell_type": "code",
   "execution_count": 40,
   "metadata": {},
   "outputs": [
    {
     "data": {
      "text/plain": [
       "(2, 31, 31)"
      ]
     },
     "execution_count": 40,
     "metadata": {},
     "output_type": "execute_result"
    }
   ],
   "source": [
    "backward_down_conv_2 = Down_conv_2.backward(backward_max_pool_2)\n",
    "Down_conv_2.updateWeights(backward_max_pool_2, 0.01)\n",
    "backward_down_conv_2.shape"
   ]
  },
  {
   "cell_type": "code",
   "execution_count": 41,
   "metadata": {},
   "outputs": [
    {
     "data": {
      "text/plain": [
       "(2, 63, 63)"
      ]
     },
     "execution_count": 41,
     "metadata": {},
     "output_type": "execute_result"
    }
   ],
   "source": [
    "backward_max_pool_1 = Max_pool_1.backward(backward_down_conv_2)\n",
    "backward_max_pool_1.shape"
   ]
  },
  {
   "cell_type": "code",
   "execution_count": 42,
   "metadata": {},
   "outputs": [
    {
     "data": {
      "text/plain": [
       "(1, 64, 64)"
      ]
     },
     "execution_count": 42,
     "metadata": {},
     "output_type": "execute_result"
    }
   ],
   "source": [
    "backward_down_conv_1 = Down_conv_1.backward(backward_max_pool_1)\n",
    "Down_conv_1.updateWeights(backward_max_pool_1, 0.01)\n",
    "backward_down_conv_1.shape"
   ]
  },
  {
   "cell_type": "code",
   "execution_count": null,
   "metadata": {},
   "outputs": [],
   "source": []
  }
 ],
 "metadata": {
  "kernelspec": {
   "display_name": "Python 3",
   "language": "python",
   "name": "python3"
  },
  "language_info": {
   "codemirror_mode": {
    "name": "ipython",
    "version": 3
   },
   "file_extension": ".py",
   "mimetype": "text/x-python",
   "name": "python",
   "nbconvert_exporter": "python",
   "pygments_lexer": "ipython3",
   "version": "3.10.7"
  }
 },
 "nbformat": 4,
 "nbformat_minor": 2
}
