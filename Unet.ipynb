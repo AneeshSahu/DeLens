{
 "cells": [
  {
   "cell_type": "code",
   "execution_count": 5,
   "metadata": {},
   "outputs": [],
   "source": [
    "from Concat import Concat\n",
    "from ConvolutionalLayer import ConvolutionalLayer\n",
    "from MaxPoolLayer import MaxPoolLayer\n",
    "from UpconvolutionLayer import UpconvolutionalLayer\n",
    "from UpsamplingLayer import UpsamplingLayer\n",
    "import numpy as np\n",
    "import os"
   ]
  },
  {
   "cell_type": "code",
   "execution_count": 6,
   "metadata": {},
   "outputs": [],
   "source": [
    "input = []\n",
    "# Directory containing the .npy files\n",
    "directory = r\"lensingData/Data/train/Lensed\"\n",
    "\n",
    "# Get a list of .npy files in the directory\n",
    "npy_files = [f for f in os.listdir(directory) if f.endswith('.npy')][:20]\n",
    "\n",
    "# Sort the files to maintain order\n",
    "npy_files.sort()\n",
    "\n",
    "# Iterate through the list and plot each file\n",
    "for idx, npy_file in enumerate(npy_files):\n",
    "    # Load the .npy file\n",
    "    data = np.load(os.path.join(directory, npy_file))\n",
    "    input.append(data)\n",
    "\n",
    "input = np.array(input)\n"
   ]
  },
  {
   "cell_type": "code",
   "execution_count": null,
   "metadata": {},
   "outputs": [],
   "source": [
    "Down_conv_1 = ConvolutionalLayer(kwidth=3, kcount=2)\n",
    "Max_pool_1 = MaxPoolLayer(2, 2)\n",
    "Down_conv_2 = ConvolutionalLayer(kwidth=3, kcount=2)\n",
    "Max_pool_2 = MaxPoolLayer(2, 2)\n",
    "Down_conv_3 = ConvolutionalLayer(kwidth=3, kcount=2)\n",
    "Max_pool_3 = MaxPoolLayer(2, 2)\n",
    "Down_conv_4 = ConvolutionalLayer(kwidth=3, kcount=2)\n",
    "Up_sample_1 = UpsamplingLayer(10)\n",
    "Concat_1 = Concat(Down_conv_3)\n",
    "Up_conv_1 = UpconvolutionalLayer(3, 2)\n",
    "Up_sample_2 = UpsamplingLayer()"
   ]
  }
 ],
 "metadata": {
  "kernelspec": {
   "display_name": "Python 3",
   "language": "python",
   "name": "python3"
  },
  "language_info": {
   "codemirror_mode": {
    "name": "ipython",
    "version": 3
   },
   "file_extension": ".py",
   "mimetype": "text/x-python",
   "name": "python",
   "nbconvert_exporter": "python",
   "pygments_lexer": "ipython3",
   "version": "3.10.7"
  }
 },
 "nbformat": 4,
 "nbformat_minor": 2
}
